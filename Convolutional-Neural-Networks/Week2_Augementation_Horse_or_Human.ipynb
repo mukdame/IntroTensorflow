{
  "nbformat": 4,
  "nbformat_minor": 0,
  "metadata": {
    "colab": {
      "name": "CNNs_Horse-or-Human-WithAugmentation.ipynb",
      "provenance": [],
      "collapsed_sections": [],
      "include_colab_link": true
    },
    "kernelspec": {
      "name": "python3",
      "display_name": "Python 3"
    },
    "accelerator": "GPU"
  },
  "cells": [
    {
      "cell_type": "markdown",
      "metadata": {
        "id": "view-in-github",
        "colab_type": "text"
      },
      "source": [
        "<a href=\"https://colab.research.google.com/github/mukdame/IntroTensorflow/blob/master/CNNs_Horse_or_Human_WithAugmentation.ipynb\" target=\"_parent\"><img src=\"https://colab.research.google.com/assets/colab-badge.svg\" alt=\"Open In Colab\"/></a>"
      ]
    },
    {
      "cell_type": "code",
      "metadata": {
        "colab_type": "code",
        "id": "RXZT2UsyIVe_",
        "outputId": "63a61225-94af-404b-e593-c016823f8dcf",
        "colab": {
          "base_uri": "https://localhost:8080/",
          "height": 417
        }
      },
      "source": [
        "!wget --no-check-certificate \\\n",
        "    https://storage.googleapis.com/laurencemoroney-blog.appspot.com/horse-or-human.zip \\\n",
        "    -O /tmp/horse-or-human.zip\n",
        "\n",
        "!wget --no-check-certificate \\\n",
        "    https://storage.googleapis.com/laurencemoroney-blog.appspot.com/validation-horse-or-human.zip \\\n",
        "    -O /tmp/validation-horse-or-human.zip\n",
        "  \n",
        "import os\n",
        "import zipfile\n",
        "\n",
        "local_zip = '/tmp/horse-or-human.zip'\n",
        "zip_ref = zipfile.ZipFile(local_zip, 'r')\n",
        "zip_ref.extractall('/tmp/horse-or-human')\n",
        "local_zip = '/tmp/validation-horse-or-human.zip'\n",
        "zip_ref = zipfile.ZipFile(local_zip, 'r')\n",
        "zip_ref.extractall('/tmp/validation-horse-or-human')\n",
        "zip_ref.close()\n",
        "# Directory with our training horse pictures\n",
        "train_horse_dir = os.path.join('/tmp/horse-or-human/horses')\n",
        "\n",
        "# Directory with our training human pictures\n",
        "train_human_dir = os.path.join('/tmp/horse-or-human/humans')\n",
        "\n",
        "# Directory with our training horse pictures\n",
        "validation_horse_dir = os.path.join('/tmp/validation-horse-or-human/horses')\n",
        "\n",
        "# Directory with our training human pictures\n",
        "validation_human_dir = os.path.join('/tmp/validation-horse-or-human/humans')"
      ],
      "execution_count": 0,
      "outputs": [
        {
          "output_type": "stream",
          "text": [
            "--2020-01-06 03:08:29--  https://storage.googleapis.com/laurencemoroney-blog.appspot.com/horse-or-human.zip\n",
            "Resolving storage.googleapis.com (storage.googleapis.com)... 172.217.214.128, 2607:f8b0:4001:c03::80\n",
            "Connecting to storage.googleapis.com (storage.googleapis.com)|172.217.214.128|:443... connected.\n",
            "HTTP request sent, awaiting response... 200 OK\n",
            "Length: 149574867 (143M) [application/zip]\n",
            "Saving to: ‘/tmp/horse-or-human.zip’\n",
            "\n",
            "/tmp/horse-or-human 100%[===================>] 142.65M  56.3MB/s    in 2.5s    \n",
            "\n",
            "2020-01-06 03:08:32 (56.3 MB/s) - ‘/tmp/horse-or-human.zip’ saved [149574867/149574867]\n",
            "\n",
            "--2020-01-06 03:08:33--  https://storage.googleapis.com/laurencemoroney-blog.appspot.com/validation-horse-or-human.zip\n",
            "Resolving storage.googleapis.com (storage.googleapis.com)... 172.217.214.128, 2607:f8b0:4001:c03::80\n",
            "Connecting to storage.googleapis.com (storage.googleapis.com)|172.217.214.128|:443... connected.\n",
            "HTTP request sent, awaiting response... 200 OK\n",
            "Length: 11480187 (11M) [application/zip]\n",
            "Saving to: ‘/tmp/validation-horse-or-human.zip’\n",
            "\n",
            "/tmp/validation-hor 100%[===================>]  10.95M  60.5MB/s    in 0.2s    \n",
            "\n",
            "2020-01-06 03:08:34 (60.5 MB/s) - ‘/tmp/validation-horse-or-human.zip’ saved [11480187/11480187]\n",
            "\n"
          ],
          "name": "stdout"
        }
      ]
    },
    {
      "cell_type": "markdown",
      "metadata": {
        "colab_type": "text",
        "id": "5oqBkNBJmtUv"
      },
      "source": [
        "## Building a Small Model from Scratch\n",
        "\n",
        "But before we continue, let's start defining the model:\n",
        "\n",
        "Step 1 will be to import tensorflow."
      ]
    },
    {
      "cell_type": "code",
      "metadata": {
        "id": "qvfZg3LQbD-5",
        "colab_type": "code",
        "outputId": "1705f73c-1138-4ea3-a815-f75306a1e354",
        "colab": {
          "base_uri": "https://localhost:8080/",
          "height": 65
        }
      },
      "source": [
        "import tensorflow as tf"
      ],
      "execution_count": 0,
      "outputs": [
        {
          "output_type": "display_data",
          "data": {
            "text/html": [
              "<p style=\"color: red;\">\n",
              "The default version of TensorFlow in Colab will soon switch to TensorFlow 2.x.<br>\n",
              "We recommend you <a href=\"https://www.tensorflow.org/guide/migrate\" target=\"_blank\">upgrade</a> now \n",
              "or ensure your notebook will continue to use TensorFlow 1.x via the <code>%tensorflow_version 1.x</code> magic:\n",
              "<a href=\"https://colab.research.google.com/notebooks/tensorflow_version.ipynb\" target=\"_blank\">more info</a>.</p>\n"
            ],
            "text/plain": [
              "<IPython.core.display.HTML object>"
            ]
          },
          "metadata": {
            "tags": []
          }
        }
      ]
    },
    {
      "cell_type": "markdown",
      "metadata": {
        "colab_type": "text",
        "id": "BnhYCP4tdqjC"
      },
      "source": [
        "We then add convolutional layers as in the previous example, and flatten the final result to feed into the densely connected layers."
      ]
    },
    {
      "cell_type": "markdown",
      "metadata": {
        "id": "gokG5HKpdtzm",
        "colab_type": "text"
      },
      "source": [
        "Finally we add the densely connected layers. \n",
        "\n",
        "Note that because we are facing a two-class classification problem, i.e. a *binary classification problem*, we will end our network with a [*sigmoid* activation](https://wikipedia.org/wiki/Sigmoid_function), so that the output of our network will be a single scalar between 0 and 1, encoding the probability that the current image is class 1 (as opposed to class 0)."
      ]
    },
    {
      "cell_type": "code",
      "metadata": {
        "id": "PixZ2s5QbYQ3",
        "colab_type": "code",
        "outputId": "74570414-e8d8-4388-c12b-4ac17045da7e",
        "colab": {
          "base_uri": "https://localhost:8080/",
          "height": 92
        }
      },
      "source": [
        "model = tf.keras.models.Sequential([\n",
        "    # Note the input shape is the desired size of the image 300x300 with 3 bytes color\n",
        "    # This is the first convolution\n",
        "    tf.keras.layers.Conv2D(16, (3,3), activation='relu', input_shape=(300, 300, 3)),\n",
        "    tf.keras.layers.MaxPooling2D(2, 2),\n",
        "    # The second convolution\n",
        "    tf.keras.layers.Conv2D(32, (3,3), activation='relu'),\n",
        "    tf.keras.layers.MaxPooling2D(2,2),\n",
        "    # The third convolution\n",
        "    tf.keras.layers.Conv2D(64, (3,3), activation='relu'),\n",
        "    tf.keras.layers.MaxPooling2D(2,2),\n",
        "    # The fourth convolution\n",
        "    tf.keras.layers.Conv2D(64, (3,3), activation='relu'),\n",
        "    tf.keras.layers.MaxPooling2D(2,2),\n",
        "    # The fifth convolution\n",
        "    tf.keras.layers.Conv2D(64, (3,3), activation='relu'),\n",
        "    tf.keras.layers.MaxPooling2D(2,2),\n",
        "    # Flatten the results to feed into a DNN\n",
        "    tf.keras.layers.Flatten(),\n",
        "    # 512 neuron hidden layer\n",
        "    tf.keras.layers.Dense(512, activation='relu'),\n",
        "    # Only 1 output neuron. It will contain a value from 0-1 where 0 for 1 class ('horses') and 1 for the other ('humans')\n",
        "    tf.keras.layers.Dense(1, activation='sigmoid')\n",
        "])"
      ],
      "execution_count": 0,
      "outputs": [
        {
          "output_type": "stream",
          "text": [
            "WARNING:tensorflow:From /usr/local/lib/python3.6/dist-packages/tensorflow_core/python/ops/resource_variable_ops.py:1630: calling BaseResourceVariable.__init__ (from tensorflow.python.ops.resource_variable_ops) with constraint is deprecated and will be removed in a future version.\n",
            "Instructions for updating:\n",
            "If using Keras pass *_constraint arguments to layers.\n"
          ],
          "name": "stdout"
        }
      ]
    },
    {
      "cell_type": "code",
      "metadata": {
        "colab_type": "code",
        "id": "8DHWhFP_uhq3",
        "outputId": "f65b720d-c704-40b9-ffca-69387de6dc5b",
        "colab": {
          "base_uri": "https://localhost:8080/",
          "height": 92
        }
      },
      "source": [
        "from tensorflow.keras.optimizers import RMSprop\n",
        "\n",
        "model.compile(loss='binary_crossentropy',\n",
        "              optimizer=RMSprop(lr=1e-4),\n",
        "              metrics=['acc'])"
      ],
      "execution_count": 0,
      "outputs": [
        {
          "output_type": "stream",
          "text": [
            "WARNING:tensorflow:From /usr/local/lib/python3.6/dist-packages/tensorflow_core/python/ops/nn_impl.py:183: where (from tensorflow.python.ops.array_ops) is deprecated and will be removed in a future version.\n",
            "Instructions for updating:\n",
            "Use tf.where in 2.0, which has the same broadcast rule as np.where\n"
          ],
          "name": "stdout"
        }
      ]
    },
    {
      "cell_type": "code",
      "metadata": {
        "colab_type": "code",
        "id": "ClebU9NJg99G",
        "outputId": "400c8fde-c95e-4244-8781-ffee41ab249c",
        "colab": {
          "base_uri": "https://localhost:8080/",
          "height": 54
        }
      },
      "source": [
        "from tensorflow.keras.preprocessing.image import ImageDataGenerator\n",
        "\n",
        "# All images will be rescaled by 1./255\n",
        "train_datagen = ImageDataGenerator(\n",
        "      rescale=1./255,\n",
        "      rotation_range=40,\n",
        "      width_shift_range=0.2,\n",
        "      height_shift_range=0.2,\n",
        "      shear_range=0.2,\n",
        "      zoom_range=0.2,\n",
        "      horizontal_flip=True,\n",
        "      fill_mode='nearest')\n",
        "\n",
        "validation_datagen = ImageDataGenerator(rescale=1/255)\n",
        "\n",
        "# Flow training images in batches of 128 using train_datagen generator\n",
        "train_generator = train_datagen.flow_from_directory(\n",
        "        '/tmp/horse-or-human/',  # This is the source directory for training images\n",
        "        target_size=(300, 300),  # All images will be resized to 150x150\n",
        "        batch_size=128,\n",
        "        # Since we use binary_crossentropy loss, we need binary labels\n",
        "        class_mode='binary')\n",
        "\n",
        "# Flow training images in batches of 128 using train_datagen generator\n",
        "validation_generator = validation_datagen.flow_from_directory(\n",
        "        '/tmp/validation-horse-or-human/',  # This is the source directory for training images\n",
        "        target_size=(300, 300),  # All images will be resized to 150x150\n",
        "        batch_size=32,\n",
        "        # Since we use binary_crossentropy loss, we need binary labels\n",
        "        class_mode='binary')"
      ],
      "execution_count": 0,
      "outputs": [
        {
          "output_type": "stream",
          "text": [
            "Found 1027 images belonging to 2 classes.\n",
            "Found 256 images belonging to 2 classes.\n"
          ],
          "name": "stdout"
        }
      ]
    },
    {
      "cell_type": "code",
      "metadata": {
        "colab_type": "code",
        "id": "Fb1_lgobv81m",
        "outputId": "47c7380a-f6d0-4487-86ee-f10233d1571f",
        "colab": {
          "base_uri": "https://localhost:8080/",
          "height": 1000
        }
      },
      "source": [
        "history = model.fit_generator(\n",
        "      train_generator,\n",
        "      steps_per_epoch=8,  \n",
        "      epochs=100,\n",
        "      verbose=1,\n",
        "      validation_data = validation_generator,\n",
        "      validation_steps=8)"
      ],
      "execution_count": 0,
      "outputs": [
        {
          "output_type": "stream",
          "text": [
            "Epoch 1/100\n",
            "7/8 [=========================>....] - ETA: 2s - loss: 0.6937 - acc: 0.5837Epoch 1/100\n",
            "8/8 [==============================] - 2s 193ms/step - loss: 0.6924 - acc: 0.5000\n",
            "8/8 [==============================] - 20s 3s/step - loss: 0.6920 - acc: 0.5840 - val_loss: 0.6924 - val_acc: 0.5000\n",
            "Epoch 2/100\n",
            "7/8 [=========================>....] - ETA: 2s - loss: 0.6830 - acc: 0.6005Epoch 1/100\n",
            "8/8 [==============================] - 1s 185ms/step - loss: 0.6618 - acc: 0.5430\n",
            "8/8 [==============================] - 23s 3s/step - loss: 0.6783 - acc: 0.6196 - val_loss: 0.6618 - val_acc: 0.5430\n",
            "Epoch 3/100\n",
            "7/8 [=========================>....] - ETA: 3s - loss: 0.6425 - acc: 0.6741Epoch 1/100\n",
            "8/8 [==============================] - 1s 181ms/step - loss: 0.9228 - acc: 0.5000\n",
            "8/8 [==============================] - 23s 3s/step - loss: 0.6433 - acc: 0.6730 - val_loss: 0.9228 - val_acc: 0.5000\n",
            "Epoch 4/100\n",
            "7/8 [=========================>....] - ETA: 3s - loss: 0.6410 - acc: 0.6685Epoch 1/100\n",
            "8/8 [==============================] - 1s 177ms/step - loss: 0.6059 - acc: 0.6914\n",
            "8/8 [==============================] - 26s 3s/step - loss: 0.6352 - acc: 0.6729 - val_loss: 0.6059 - val_acc: 0.6914\n",
            "Epoch 5/100\n",
            "7/8 [=========================>....] - ETA: 2s - loss: 0.6440 - acc: 0.6900Epoch 1/100\n",
            "8/8 [==============================] - 1s 181ms/step - loss: 0.6496 - acc: 0.5703\n",
            "8/8 [==============================] - 23s 3s/step - loss: 0.6316 - acc: 0.7030 - val_loss: 0.6496 - val_acc: 0.5703\n",
            "Epoch 6/100\n",
            "7/8 [=========================>....] - ETA: 2s - loss: 0.5857 - acc: 0.6952Epoch 1/100\n",
            "8/8 [==============================] - 1s 183ms/step - loss: 1.0738 - acc: 0.5000\n",
            "8/8 [==============================] - 20s 2s/step - loss: 0.5680 - acc: 0.6964 - val_loss: 1.0738 - val_acc: 0.5000\n",
            "Epoch 7/100\n",
            "7/8 [=========================>....] - ETA: 3s - loss: 0.5562 - acc: 0.7143Epoch 1/100\n",
            "8/8 [==============================] - 1s 182ms/step - loss: 0.8300 - acc: 0.5352\n",
            "8/8 [==============================] - 26s 3s/step - loss: 0.5603 - acc: 0.7148 - val_loss: 0.8300 - val_acc: 0.5352\n",
            "Epoch 8/100\n",
            "7/8 [=========================>....] - ETA: 2s - loss: 0.5063 - acc: 0.7263Epoch 1/100\n",
            "8/8 [==============================] - 1s 178ms/step - loss: 0.8064 - acc: 0.5742\n",
            "8/8 [==============================] - 23s 3s/step - loss: 0.5037 - acc: 0.7341 - val_loss: 0.8064 - val_acc: 0.5742\n",
            "Epoch 9/100\n",
            "7/8 [=========================>....] - ETA: 3s - loss: 0.5565 - acc: 0.7109Epoch 1/100\n",
            "8/8 [==============================] - 1s 178ms/step - loss: 0.4907 - acc: 0.8008\n",
            "8/8 [==============================] - 23s 3s/step - loss: 0.5130 - acc: 0.7119 - val_loss: 0.4907 - val_acc: 0.8008\n",
            "Epoch 10/100\n",
            "7/8 [=========================>....] - ETA: 2s - loss: 0.5032 - acc: 0.7328Epoch 1/100\n",
            "8/8 [==============================] - 1s 180ms/step - loss: 1.0235 - acc: 0.5391\n",
            "8/8 [==============================] - 23s 3s/step - loss: 0.5104 - acc: 0.7341 - val_loss: 1.0235 - val_acc: 0.5391\n",
            "Epoch 11/100\n",
            "6/8 [=====================>........] - ETA: 6s - loss: 0.5274 - acc: 0.7461Epoch 1/100\n",
            "8/8 [==============================] - 1s 178ms/step - loss: 1.2178 - acc: 0.5195\n",
            "8/8 [==============================] - 23s 3s/step - loss: 0.5851 - acc: 0.7152 - val_loss: 1.2178 - val_acc: 0.5195\n",
            "Epoch 12/100\n",
            "7/8 [=========================>....] - ETA: 2s - loss: 0.4737 - acc: 0.7536Epoch 1/100\n",
            "8/8 [==============================] - 1s 183ms/step - loss: 0.7370 - acc: 0.6055\n",
            "8/8 [==============================] - 23s 3s/step - loss: 0.4942 - acc: 0.7375 - val_loss: 0.7370 - val_acc: 0.6055\n",
            "Epoch 13/100\n",
            "7/8 [=========================>....] - ETA: 2s - loss: 0.4809 - acc: 0.7302Epoch 1/100\n",
            "8/8 [==============================] - 1s 177ms/step - loss: 1.1294 - acc: 0.5430\n",
            "8/8 [==============================] - 23s 3s/step - loss: 0.4869 - acc: 0.7353 - val_loss: 1.1294 - val_acc: 0.5430\n",
            "Epoch 14/100\n",
            "7/8 [=========================>....] - ETA: 3s - loss: 0.4881 - acc: 0.7589Epoch 1/100\n",
            "8/8 [==============================] - 1s 174ms/step - loss: 0.9799 - acc: 0.5781\n",
            "8/8 [==============================] - 26s 3s/step - loss: 0.4845 - acc: 0.7656 - val_loss: 0.9799 - val_acc: 0.5781\n",
            "Epoch 15/100\n",
            "7/8 [=========================>....] - ETA: 2s - loss: 0.4718 - acc: 0.7510Epoch 1/100\n",
            "8/8 [==============================] - 1s 174ms/step - loss: 1.2547 - acc: 0.5312\n",
            "8/8 [==============================] - 23s 3s/step - loss: 0.4896 - acc: 0.7453 - val_loss: 1.2547 - val_acc: 0.5312\n",
            "Epoch 16/100\n",
            "7/8 [=========================>....] - ETA: 2s - loss: 0.4986 - acc: 0.7821Epoch 1/100\n",
            "8/8 [==============================] - 1s 181ms/step - loss: 0.3393 - acc: 0.8633\n",
            "8/8 [==============================] - 20s 2s/step - loss: 0.4951 - acc: 0.7829 - val_loss: 0.3393 - val_acc: 0.8633\n",
            "Epoch 17/100\n",
            "7/8 [=========================>....] - ETA: 3s - loss: 0.5133 - acc: 0.7600Epoch 1/100\n",
            "8/8 [==============================] - 1s 183ms/step - loss: 0.8346 - acc: 0.6406\n",
            "8/8 [==============================] - 26s 3s/step - loss: 0.5105 - acc: 0.7637 - val_loss: 0.8346 - val_acc: 0.6406\n",
            "Epoch 18/100\n",
            "6/8 [=====================>........] - ETA: 6s - loss: 0.4601 - acc: 0.7865Epoch 1/100\n",
            "8/8 [==============================] - 1s 174ms/step - loss: 0.9997 - acc: 0.5820\n",
            "8/8 [==============================] - 23s 3s/step - loss: 0.5233 - acc: 0.7531 - val_loss: 0.9997 - val_acc: 0.5820\n",
            "Epoch 19/100\n",
            "7/8 [=========================>....] - ETA: 2s - loss: 0.4281 - acc: 0.7938Epoch 1/100\n",
            "8/8 [==============================] - 1s 176ms/step - loss: 0.9596 - acc: 0.6211\n",
            "8/8 [==============================] - 23s 3s/step - loss: 0.4300 - acc: 0.7953 - val_loss: 0.9596 - val_acc: 0.6211\n",
            "Epoch 20/100\n",
            "7/8 [=========================>....] - ETA: 3s - loss: 0.4600 - acc: 0.7857Epoch 1/100\n",
            "8/8 [==============================] - 1s 183ms/step - loss: 0.7702 - acc: 0.6719\n",
            "8/8 [==============================] - 26s 3s/step - loss: 0.4596 - acc: 0.7871 - val_loss: 0.7702 - val_acc: 0.6719\n",
            "Epoch 21/100\n",
            "7/8 [=========================>....] - ETA: 2s - loss: 0.4918 - acc: 0.7709Epoch 1/100\n",
            "8/8 [==============================] - 1s 181ms/step - loss: 1.0271 - acc: 0.6172\n",
            "8/8 [==============================] - 20s 2s/step - loss: 0.4748 - acc: 0.7868 - val_loss: 1.0271 - val_acc: 0.6172\n",
            "Epoch 22/100\n",
            "7/8 [=========================>....] - ETA: 2s - loss: 0.4005 - acc: 0.8482Epoch 1/100\n",
            "8/8 [==============================] - 1s 179ms/step - loss: 1.6624 - acc: 0.5391\n",
            "8/8 [==============================] - 22s 3s/step - loss: 0.4064 - acc: 0.8387 - val_loss: 1.6624 - val_acc: 0.5391\n",
            "Epoch 23/100\n",
            "7/8 [=========================>....] - ETA: 2s - loss: 0.4448 - acc: 0.7779Epoch 1/100\n",
            "8/8 [==============================] - 1s 181ms/step - loss: 1.0824 - acc: 0.6484\n",
            "8/8 [==============================] - 25s 3s/step - loss: 0.4385 - acc: 0.7822 - val_loss: 1.0824 - val_acc: 0.6484\n",
            "Epoch 24/100\n",
            "7/8 [=========================>....] - ETA: 2s - loss: 0.5112 - acc: 0.8029Epoch 1/100\n",
            "8/8 [==============================] - 1s 179ms/step - loss: 1.2095 - acc: 0.6016\n",
            "8/8 [==============================] - 23s 3s/step - loss: 0.4900 - acc: 0.8042 - val_loss: 1.2095 - val_acc: 0.6016\n",
            "Epoch 25/100\n",
            "7/8 [=========================>....] - ETA: 2s - loss: 0.3706 - acc: 0.8249Epoch 1/100\n",
            "8/8 [==============================] - 1s 178ms/step - loss: 1.4714 - acc: 0.5742\n",
            "8/8 [==============================] - 23s 3s/step - loss: 0.3690 - acc: 0.8309 - val_loss: 1.4714 - val_acc: 0.5742\n",
            "Epoch 26/100\n",
            "6/8 [=====================>........] - ETA: 5s - loss: 0.4106 - acc: 0.8073Epoch 1/100\n",
            "8/8 [==============================] - 1s 177ms/step - loss: 0.6541 - acc: 0.7617\n",
            "8/8 [==============================] - 19s 2s/step - loss: 0.3796 - acc: 0.8088 - val_loss: 0.6541 - val_acc: 0.7617\n",
            "Epoch 27/100\n",
            "7/8 [=========================>....] - ETA: 3s - loss: 0.3738 - acc: 0.8404Epoch 1/100\n",
            "8/8 [==============================] - 1s 174ms/step - loss: 1.2981 - acc: 0.6250\n",
            "8/8 [==============================] - 26s 3s/step - loss: 0.3782 - acc: 0.8350 - val_loss: 1.2981 - val_acc: 0.6250\n",
            "Epoch 28/100\n",
            "7/8 [=========================>....] - ETA: 2s - loss: 0.3653 - acc: 0.8301Epoch 1/100\n",
            "8/8 [==============================] - 1s 175ms/step - loss: 1.3030 - acc: 0.6250\n",
            "8/8 [==============================] - 22s 3s/step - loss: 0.3665 - acc: 0.8331 - val_loss: 1.3030 - val_acc: 0.6250\n",
            "Epoch 29/100\n",
            "6/8 [=====================>........] - ETA: 5s - loss: 0.3437 - acc: 0.8451Epoch 1/100\n",
            "8/8 [==============================] - 1s 178ms/step - loss: 1.8138 - acc: 0.5625\n",
            "8/8 [==============================] - 23s 3s/step - loss: 0.3059 - acc: 0.8465 - val_loss: 1.8138 - val_acc: 0.5625\n",
            "Epoch 30/100\n",
            "7/8 [=========================>....] - ETA: 3s - loss: 0.3815 - acc: 0.8259Epoch 1/100\n",
            "8/8 [==============================] - 1s 180ms/step - loss: 1.9820 - acc: 0.5195\n",
            "8/8 [==============================] - 23s 3s/step - loss: 0.4006 - acc: 0.8254 - val_loss: 1.9820 - val_acc: 0.5195\n",
            "Epoch 31/100\n",
            "7/8 [=========================>....] - ETA: 3s - loss: 0.3764 - acc: 0.8259Epoch 1/100\n",
            "8/8 [==============================] - 1s 178ms/step - loss: 1.1520 - acc: 0.6719\n",
            "8/8 [==============================] - 26s 3s/step - loss: 0.3749 - acc: 0.8320 - val_loss: 1.1520 - val_acc: 0.6719\n",
            "Epoch 32/100\n",
            "7/8 [=========================>....] - ETA: 2s - loss: 0.4166 - acc: 0.8392Epoch 1/100\n",
            "8/8 [==============================] - 1s 176ms/step - loss: 0.9535 - acc: 0.6914\n",
            "8/8 [==============================] - 23s 3s/step - loss: 0.4008 - acc: 0.8432 - val_loss: 0.9535 - val_acc: 0.6914\n",
            "Epoch 33/100\n",
            "7/8 [=========================>....] - ETA: 2s - loss: 0.3197 - acc: 0.8700Epoch 1/100\n",
            "8/8 [==============================] - 1s 180ms/step - loss: 0.9159 - acc: 0.7148\n",
            "8/8 [==============================] - 20s 2s/step - loss: 0.3258 - acc: 0.8643 - val_loss: 0.9159 - val_acc: 0.7148\n",
            "Epoch 34/100\n",
            "7/8 [=========================>....] - ETA: 3s - loss: 0.2887 - acc: 0.8962Epoch 1/100\n",
            "8/8 [==============================] - 1s 179ms/step - loss: 1.2800 - acc: 0.6836\n",
            "8/8 [==============================] - 26s 3s/step - loss: 0.2865 - acc: 0.8955 - val_loss: 1.2800 - val_acc: 0.6836\n",
            "Epoch 35/100\n",
            "7/8 [=========================>....] - ETA: 2s - loss: 0.3449 - acc: 0.8314Epoch 1/100\n",
            "8/8 [==============================] - 1s 180ms/step - loss: 1.1121 - acc: 0.6875\n",
            "8/8 [==============================] - 23s 3s/step - loss: 0.3466 - acc: 0.8354 - val_loss: 1.1121 - val_acc: 0.6875\n",
            "Epoch 36/100\n",
            "3/8 [==========>...................] - ETA: 14s - loss: 0.3001 - acc: 0.8854"
          ],
          "name": "stdout"
        }
      ]
    },
    {
      "cell_type": "code",
      "metadata": {
        "id": "7zNPRWOVJdOH",
        "colab_type": "code",
        "colab": {}
      },
      "source": [
        "import matplotlib.pyplot as plt\n",
        "acc = history.history['acc']\n",
        "val_acc = history.history['val_acc']\n",
        "loss = history.history['loss']\n",
        "val_loss = history.history['val_loss']\n",
        "\n",
        "epochs = range(len(acc))\n",
        "\n",
        "plt.plot(epochs, acc, 'r', label='Training accuracy')\n",
        "plt.plot(epochs, val_acc, 'b', label='Validation accuracy')\n",
        "plt.title('Training and validation accuracy')\n",
        "\n",
        "plt.figure()\n",
        "\n",
        "plt.plot(epochs, loss, 'r', label='Training Loss')\n",
        "plt.plot(epochs, val_loss, 'b', label='Validation Loss')\n",
        "plt.title('Training and validation loss')\n",
        "plt.legend()\n",
        "\n",
        "plt.show()"
      ],
      "execution_count": 0,
      "outputs": []
    }
  ]
}