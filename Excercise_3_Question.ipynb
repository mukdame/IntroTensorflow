{
  "nbformat": 4,
  "nbformat_minor": 0,
  "metadata": {
    "coursera": {
      "course_slug": "introduction-tensorflow",
      "graded_item_id": "ml06H",
      "launcher_item_id": "hQF8A"
    },
    "kernelspec": {
      "name": "python3",
      "display_name": "Python 3"
    },
    "language_info": {
      "codemirror_mode": {
        "name": "ipython",
        "version": 3
      },
      "file_extension": ".py",
      "mimetype": "text/x-python",
      "name": "python",
      "nbconvert_exporter": "python",
      "pygments_lexer": "ipython3",
      "version": "3.6.8"
    },
    "colab": {
      "name": "Excercise-3-Question.ipynb",
      "provenance": [],
      "include_colab_link": true
    },
    "accelerator": "GPU"
  },
  "cells": [
    {
      "cell_type": "markdown",
      "metadata": {
        "id": "view-in-github",
        "colab_type": "text"
      },
      "source": [
        "<a href=\"https://colab.research.google.com/github/mukdame/IntroTensorflow/blob/master/Excercise_3_Question.ipynb\" target=\"_parent\"><img src=\"https://colab.research.google.com/assets/colab-badge.svg\" alt=\"Open In Colab\"/></a>"
      ]
    },
    {
      "cell_type": "markdown",
      "metadata": {
        "colab_type": "text",
        "id": "iQjHqsmTAVLU"
      },
      "source": [
        "## Exercise 3\n",
        "In the videos you looked at how you would improve Fashion MNIST using Convolutions. For your exercise see if you can improve MNIST to 99.8% accuracy or more using only a single convolutional layer and a single MaxPooling 2D. You should stop training once the accuracy goes above this amount. It should happen in less than 20 epochs, so it's ok to hard code the number of epochs for training, but your training must end once it hits the above metric. If it doesn't, then you'll need to redesign your layers.\n",
        "\n",
        "I've started the code for you -- you need to finish it!\n",
        "\n",
        "When 99.8% accuracy has been hit, you should print out the string \"Reached 99.8% accuracy so cancelling training!\"\n"
      ]
    },
    {
      "cell_type": "code",
      "metadata": {
        "id": "KcB_LLHsuzyK",
        "colab_type": "code",
        "colab": {}
      },
      "source": [
        "import tensorflow as tf\n",
        "\n",
        "from os import path, getcwd, chdir\n",
        "\n",
        "# DO NOT CHANGE THE LINE BELOW. If you are developing in a local\n",
        "# environment, then grab mnist.npz from the Coursera Jupyter Notebook\n",
        "# and place it inside a local folder and edit the path to that location\n",
        "#path = f\"{getcwd()}/../tmp2/mnist.npz\""
      ],
      "execution_count": 0,
      "outputs": []
    },
    {
      "cell_type": "code",
      "metadata": {
        "id": "jzcEB61GuzyN",
        "colab_type": "code",
        "colab": {}
      },
      "source": [
        "config = tf.ConfigProto()\n",
        "config.gpu_options.allow_growth = True\n",
        "sess = tf.Session(config=config)"
      ],
      "execution_count": 0,
      "outputs": []
    },
    {
      "cell_type": "code",
      "metadata": {
        "id": "3PKEhXrVuzyO",
        "colab_type": "code",
        "colab": {}
      },
      "source": [
        "# GRADED FUNCTION: train_mnist_conv\n",
        "def train_mnist_conv():\n",
        "    # Please write your code only where you are indicated.\n",
        "    # please do not remove model fitting inline comments.\n",
        "    \n",
        "    # YOUR CODE STARTS HERE\n",
        "    ACCURACY_RATE = 99.80\n",
        "    class myCallback(tf.keras.callbacks.Callback):\n",
        "      def on_epoch_end(self, epoch, logs={}):\n",
        "        if(logs.get('acc')>ACCURACY_RATE/100.0):\n",
        "          print(\"\\nReached \" + str(ACCURACY_RATE) + \"% accuracy so cancelling training!\")\n",
        "          self.model.stop_training = True\n",
        "\n",
        "    callbacks = myCallback()   \n",
        "    # YOUR CODE ENDS HERE\n",
        "\n",
        "    mnist = tf.keras.datasets.mnist\n",
        "    (training_images, training_labels), (test_images, test_labels) = mnist.load_data()\n",
        "    #(training_images, training_labels), (test_images, test_labels) = mnist.load_data(path=path)\n",
        "    # YOUR CODE STARTS HERE\n",
        "    # NORMALIZATION\n",
        "    print(training_images.shape)\n",
        "    #return 0, 0\n",
        "    training_images = training_images.reshape(training_images.shape[0], 28, 28, 1)\n",
        "    training_images = training_images /255.0\n",
        "    \n",
        "    print(test_images.shape)\n",
        "    test_images = test_images.reshape(test_images.shape[0], 28, 28, 1)\n",
        "    test_images = test_images /255.0\n",
        "    # YOUR CODE ENDS HERE\n",
        "\n",
        "    model = tf.keras.models.Sequential([\n",
        "            # YOUR CODE STARTS HERE\n",
        "              tf.keras.layers.Conv2D(32, (3,3), activation='relu', input_shape=(28, 28, 1)),\n",
        "              tf.keras.layers.MaxPooling2D(2, 2),\n",
        "              tf.keras.layers.Flatten(),\n",
        "              tf.keras.layers.Dense(128, activation='relu'),\n",
        "              tf.keras.layers.Dense(10, activation='softmax')\n",
        "            # YOUR CODE ENDS HERE\n",
        "    ])\n",
        "\n",
        "    model.compile(optimizer='adam', loss='sparse_categorical_crossentropy', metrics=['accuracy'])\n",
        "    # model fitting\n",
        "    history = model.fit(\n",
        "        # YOUR CODE STARTS HERE\n",
        "        training_images, training_labels, epochs=20, callbacks=[callbacks]\n",
        "        # YOUR CODE ENDS HERE\n",
        "    )\n",
        "    # model fitting\n",
        "    test_loss, test_acc = model.evaluate(test_images, test_labels)\n",
        "    model.summary()\n",
        "    \n",
        "    return history.epoch, history.history['acc'][-1]"
      ],
      "execution_count": 0,
      "outputs": []
    },
    {
      "cell_type": "code",
      "metadata": {
        "id": "JC1kEomGuzyR",
        "colab_type": "code",
        "colab": {
          "base_uri": "https://localhost:8080/",
          "height": 817
        },
        "outputId": "f7a94532-2c26-4684-e752-819a15ee536c"
      },
      "source": [
        "epochs, acc = train_mnist_conv()\n",
        "print(\"epochs: \", epochs)\n",
        "print(\"acc: \", acc)"
      ],
      "execution_count": 24,
      "outputs": [
        {
          "output_type": "stream",
          "text": [
            "(60000, 28, 28)\n",
            "(10000, 28, 28)\n",
            "Train on 60000 samples\n",
            "Epoch 1/20\n",
            "60000/60000 [==============================] - 5s 91us/sample - loss: 0.1555 - acc: 0.9538\n",
            "Epoch 2/20\n",
            "60000/60000 [==============================] - 5s 89us/sample - loss: 0.0535 - acc: 0.9829\n",
            "Epoch 3/20\n",
            "60000/60000 [==============================] - 5s 86us/sample - loss: 0.0334 - acc: 0.9900\n",
            "Epoch 4/20\n",
            "60000/60000 [==============================] - 5s 89us/sample - loss: 0.0229 - acc: 0.9930\n",
            "Epoch 5/20\n",
            "60000/60000 [==============================] - 5s 87us/sample - loss: 0.0158 - acc: 0.9948\n",
            "Epoch 6/20\n",
            "60000/60000 [==============================] - 5s 87us/sample - loss: 0.0110 - acc: 0.9966\n",
            "Epoch 7/20\n",
            "60000/60000 [==============================] - 5s 88us/sample - loss: 0.0088 - acc: 0.9971\n",
            "Epoch 8/20\n",
            "60000/60000 [==============================] - 5s 90us/sample - loss: 0.0061 - acc: 0.9978\n",
            "Epoch 9/20\n",
            "59776/60000 [============================>.] - ETA: 0s - loss: 0.0054 - acc: 0.9983\n",
            "Reached 99.8% accuracy so cancelling training!\n",
            "60000/60000 [==============================] - 5s 88us/sample - loss: 0.0054 - acc: 0.9983\n",
            "10000/10000 [==============================] - 1s 55us/sample - loss: 0.0593 - acc: 0.9862\n",
            "Model: \"sequential_1\"\n",
            "_________________________________________________________________\n",
            "Layer (type)                 Output Shape              Param #   \n",
            "=================================================================\n",
            "conv2d_1 (Conv2D)            (None, 26, 26, 32)        320       \n",
            "_________________________________________________________________\n",
            "max_pooling2d_1 (MaxPooling2 (None, 13, 13, 32)        0         \n",
            "_________________________________________________________________\n",
            "flatten_1 (Flatten)          (None, 5408)              0         \n",
            "_________________________________________________________________\n",
            "dense_2 (Dense)              (None, 128)               692352    \n",
            "_________________________________________________________________\n",
            "dense_3 (Dense)              (None, 10)                1290      \n",
            "=================================================================\n",
            "Total params: 693,962\n",
            "Trainable params: 693,962\n",
            "Non-trainable params: 0\n",
            "_________________________________________________________________\n",
            "epochs:  [0, 1, 2, 3, 4, 5, 6, 7, 8]\n",
            "acc:  0.99833333\n"
          ],
          "name": "stdout"
        }
      ]
    },
    {
      "cell_type": "code",
      "metadata": {
        "id": "-b8rf6EbuzyU",
        "colab_type": "code",
        "colab": {}
      },
      "source": [
        "# Now click the 'Submit Assignment' button above.\n",
        "# Once that is complete, please run the following two cells to save your work and close the notebook"
      ],
      "execution_count": 0,
      "outputs": []
    },
    {
      "cell_type": "code",
      "metadata": {
        "id": "eyM9ipCbuzyW",
        "colab_type": "code",
        "colab": {}
      },
      "source": [
        "%%javascript\n",
        "<!-- Save the notebook -->\n",
        "IPython.notebook.save_checkpoint();"
      ],
      "execution_count": 0,
      "outputs": []
    },
    {
      "cell_type": "code",
      "metadata": {
        "id": "O4SVl_TsuzyY",
        "colab_type": "code",
        "colab": {}
      },
      "source": [
        "%%javascript\n",
        "<!-- Shutdown and close the notebook -->\n",
        "window.onbeforeunload = null\n",
        "window.close();\n",
        "IPython.notebook.session.delete();"
      ],
      "execution_count": 0,
      "outputs": []
    }
  ]
}